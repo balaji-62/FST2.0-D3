{
 "cells": [
  {
   "cell_type": "markdown",
   "metadata": {},
   "source": [
    "# 1) Write a program to find the lowest number out of two numbers excepted from user."
   ]
  },
  {
   "cell_type": "code",
   "execution_count": 2,
   "metadata": {},
   "outputs": [
    {
     "name": "stdout",
     "output_type": "stream",
     "text": [
      "The number 30.0 is greater.\n"
     ]
    }
   ],
   "source": [
    "n1 = float(input(\"Enter 1st number : \"))\n",
    "n2 = float(input(\"Enter 2nd number : \"))\n",
    "if n1 > n2:\n",
    "    print(f\"The number {n1} is greater.\")\n",
    "else:\n",
    "    print(f\"The number {n2} is greater.\")\n"
   ]
  },
  {
   "cell_type": "markdown",
   "metadata": {},
   "source": [
    "# 2) Write a program check to whether a number (accepted from user) is divisible by 2 and 3 both."
   ]
  },
  {
   "cell_type": "code",
   "execution_count": 4,
   "metadata": {},
   "outputs": [
    {
     "name": "stdout",
     "output_type": "stream",
     "text": [
      "The number 18 is divisible by 2 and 3 both.\n"
     ]
    }
   ],
   "source": [
    "num = int(input(\"Enter the number : \"))\n",
    "if num % 2 == 0 and num % 3 == 0:\n",
    "    print(f\"The number {num} is divisible by 2 and 3 both.\")\n",
    "else:\n",
    "    print(f\"Number {num} is not divisible by 2 and 3 both.\")"
   ]
  },
  {
   "cell_type": "markdown",
   "metadata": {},
   "source": [
    "# 3) Accept the age of 4 people and display the oldest one."
   ]
  },
  {
   "cell_type": "code",
   "execution_count": 8,
   "metadata": {},
   "outputs": [
    {
     "name": "stdout",
     "output_type": "stream",
     "text": [
      "The person with age 85 is oldest\n"
     ]
    }
   ],
   "source": [
    "age1 = int(input(\"Enter the age of 1st person : \"))\n",
    "age2 = int(input(\"Enter the age of 2nd person : \"))\n",
    "age3 = int(input(\"Enter the age of 3rd person : \"))\n",
    "age4 = int(input(\"Enter the age of 4th person : \"))\n",
    "max_age = max(age1,age2,age3,age4)\n",
    "print(f\"The person with age {max_age} is oldest.\")"
   ]
  },
  {
   "cell_type": "markdown",
   "metadata": {},
   "source": [
    "# 4) Write a program to check whether a number  is prime or not."
   ]
  },
  {
   "cell_type": "code",
   "execution_count": 43,
   "metadata": {},
   "outputs": [
    {
     "name": "stdout",
     "output_type": "stream",
     "text": [
      "The number 199 is prime\n"
     ]
    }
   ],
   "source": [
    "num = int(input(\"Enter the number to check if it is prime : \"))\n",
    "for i in range(2,num):\n",
    "    if num == 2:\n",
    "        print(f\"The number {num} is prime\")\n",
    "        break\n",
    "    if num % i == 0:\n",
    "        print(f\"The number {num} is not prime\")\n",
    "        break\n",
    "else:\n",
    "    print(f\"The number {num} is prime\")  "
   ]
  },
  {
   "cell_type": "code",
   "execution_count": 44,
   "metadata": {},
   "outputs": [
    {
     "name": "stdout",
     "output_type": "stream",
     "text": [
      "The number 199 is prime\n"
     ]
    }
   ],
   "source": [
    "num = int(input(\"Enter the number to check if it is prime : \"))\n",
    "for i in range(2,int(num/2)+1):\n",
    "    if num == 2:\n",
    "        print(f\"The number {num} is prime\")\n",
    "        break\n",
    "    if num % i == 0:\n",
    "        print(f\"The number {num} is not prime\")\n",
    "        break\n",
    "else:\n",
    "    print(f\"The number {num} is prime\")  "
   ]
  },
  {
   "cell_type": "code",
   "execution_count": 28,
   "metadata": {},
   "outputs": [
    {
     "name": "stdout",
     "output_type": "stream",
     "text": [
      "The number 199 is prime\n"
     ]
    }
   ],
   "source": [
    "num = int(input(\"Enter the number to check if it is prime : \"))\n",
    "for i in range(2,int(num**(1/2))+1):\n",
    "    if num == 2:\n",
    "        print(f\"The number {num} is prime\")\n",
    "        break\n",
    "    if num % i == 0:\n",
    "        print(f\"The number {num} is not prime\")\n",
    "        break\n",
    "else:\n",
    "    print(f\"The number {num} is prime\")  "
   ]
  },
  {
   "cell_type": "markdown",
   "metadata": {},
   "source": [
    "# 5) Write a program to check a character is vowel or not."
   ]
  },
  {
   "cell_type": "code",
   "execution_count": 34,
   "metadata": {},
   "outputs": [
    {
     "name": "stdout",
     "output_type": "stream",
     "text": [
      "The character is vowel.\n"
     ]
    }
   ],
   "source": [
    "chara = input(\"Enter the character : \")\n",
    "if (chara == 'A' or chara == 'a' or\n",
    "    chara == 'E' or chara == 'e' or\n",
    "    chara == 'I' or chara == 'i' or\n",
    "    chara == 'O' or chara == 'o' or\n",
    "    chara == 'U' or chara == 'u') :\n",
    "    print(\"The character is vowel.\")\n",
    "else:\n",
    "    print(\"The character is nor vowel.\")"
   ]
  },
  {
   "cell_type": "code",
   "execution_count": 39,
   "metadata": {},
   "outputs": [
    {
     "name": "stdout",
     "output_type": "stream",
     "text": [
      "The character is not vowel.\n"
     ]
    }
   ],
   "source": [
    "chara = input(\"Enter the character : \")\n",
    "if chara.lower() in ('a','e','i','o','u'):\n",
    "    print(\"The character is vowel.\")\n",
    "else:\n",
    "    print(\"The character is not vowel.\")"
   ]
  },
  {
   "cell_type": "code",
   "execution_count": null,
   "metadata": {},
   "outputs": [],
   "source": []
  }
 ],
 "metadata": {
  "kernelspec": {
   "display_name": "base",
   "language": "python",
   "name": "python3"
  },
  "language_info": {
   "codemirror_mode": {
    "name": "ipython",
    "version": 3
   },
   "file_extension": ".py",
   "mimetype": "text/x-python",
   "name": "python",
   "nbconvert_exporter": "python",
   "pygments_lexer": "ipython3",
   "version": "3.11.5"
  }
 },
 "nbformat": 4,
 "nbformat_minor": 2
}
