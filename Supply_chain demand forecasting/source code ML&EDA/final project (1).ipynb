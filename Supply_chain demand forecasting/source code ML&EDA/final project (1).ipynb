{
 "cells": [
  {
   "cell_type": "code",
   "execution_count": null,
   "id": "665441d6",
   "metadata": {},
   "outputs": [],
   "source": [
    "import numpy as np\n",
    "import pandas as pd\n",
    "import matplotlib.pyplot as plt\n",
    "import seaborn as sns"
   ]
  },
  {
   "cell_type": "markdown",
   "id": "7b2b2907",
   "metadata": {},
   "source": [
    "# Import Dataset"
   ]
  },
  {
   "cell_type": "code",
   "execution_count": null,
   "id": "88e42744",
   "metadata": {
    "scrolled": true
   },
   "outputs": [],
   "source": [
    "df = pd.read_csv(\"D:\\\\data associate\\project\\\\DataCoSupplyChainDataset.csv\",encoding='latin1')\n",
    "df.head()"
   ]
  },
  {
   "cell_type": "code",
   "execution_count": null,
   "id": "630c52fe",
   "metadata": {},
   "outputs": [],
   "source": [
    "df.tail()"
   ]
  },
  {
   "cell_type": "code",
   "execution_count": null,
   "id": "38ade4f5",
   "metadata": {},
   "outputs": [],
   "source": [
    "df.loc[37]"
   ]
  },
  {
   "cell_type": "code",
   "execution_count": null,
   "id": "e9ac2957",
   "metadata": {},
   "outputs": [],
   "source": [
    "df.columns"
   ]
  },
  {
   "cell_type": "markdown",
   "id": "387396bd",
   "metadata": {},
   "source": [
    "# Columns selection"
   ]
  },
  {
   "cell_type": "markdown",
   "id": "6a0edc02",
   "metadata": {},
   "source": [
    "### See there are a lot of columns.\n",
    "### But we don't require all the columns for our case study.\n",
    "### We can drop columns related to customer details (first name, last name, email, password. etc.)\n",
    "### Similarly we don't require sales per customer, delivery status,etc.\n",
    "### We will drop all the unwanted columns."
   ]
  },
  {
   "cell_type": "code",
   "execution_count": null,
   "id": "294266b5",
   "metadata": {},
   "outputs": [],
   "source": [
    "features = ['Days for shipping (real)',\n",
    "            'Days for shipment (scheduled)',\n",
    "            'Category Id',\n",
    "            'Customer Segment',\n",
    "            'Market',\n",
    "            'Order Country',\n",
    "            'Order Region',\n",
    "            'order date (DateOrders)',\n",
    "            'Order Item Quantity',\n",
    "            'Order Status',\n",
    "            'Product Card Id',\n",
    "            'Product Price',\n",
    "           'Shipping Mode']\n",
    "len(features)"
   ]
  },
  {
   "cell_type": "code",
   "execution_count": null,
   "id": "7385bcc3",
   "metadata": {},
   "outputs": [],
   "source": [
    "df[features].head()"
   ]
  },
  {
   "cell_type": "code",
   "execution_count": null,
   "id": "7954e85c",
   "metadata": {},
   "outputs": [],
   "source": [
    "df = df[features]"
   ]
  },
  {
   "cell_type": "markdown",
   "id": "f884b45a",
   "metadata": {},
   "source": [
    "# EDA"
   ]
  },
  {
   "cell_type": "code",
   "execution_count": null,
   "id": "734a04af",
   "metadata": {},
   "outputs": [],
   "source": [
    "df.info()"
   ]
  },
  {
   "cell_type": "code",
   "execution_count": null,
   "id": "8c1585ad",
   "metadata": {},
   "outputs": [],
   "source": [
    "df.describe()"
   ]
  },
  {
   "cell_type": "markdown",
   "id": "0027fac1",
   "metadata": {},
   "source": [
    "### We see that date has been cosidered as object datatype.\n",
    "### So converting them into datetime datatype."
   ]
  },
  {
   "cell_type": "markdown",
   "id": "f90c9f16",
   "metadata": {},
   "source": [
    "#### Will create new columns order day,date,month, order year from the order date coulmn.\n"
   ]
  },
  {
   "cell_type": "code",
   "execution_count": null,
   "id": "a56a0657",
   "metadata": {},
   "outputs": [],
   "source": [
    "pd.to_datetime(df['order date (DateOrders)']).dt.date"
   ]
  },
  {
   "cell_type": "code",
   "execution_count": null,
   "id": "ab3041dc",
   "metadata": {},
   "outputs": [],
   "source": [
    " pd.to_datetime(df['order date (DateOrders)']).dt.day"
   ]
  },
  {
   "cell_type": "code",
   "execution_count": null,
   "id": "1b7b694f",
   "metadata": {},
   "outputs": [],
   "source": [
    "df['order date (DateOrders)'] = pd.to_datetime(df['order date (DateOrders)']).dt.date\n",
    "df['Order Day'] = pd.to_datetime(df['order date (DateOrders)']).dt.day\n",
    "df['Order Date'] = pd.to_datetime(df['order date (DateOrders)']).dt.date\n",
    "df['Order Month'] = pd.to_datetime(df['order date (DateOrders)']).dt.month\n",
    "df['Order Year'] = pd.to_datetime(df['order date (DateOrders)']).dt.year"
   ]
  },
  {
   "cell_type": "code",
   "execution_count": null,
   "id": "6fe6d55f",
   "metadata": {},
   "outputs": [],
   "source": [
    "df.head()"
   ]
  },
  {
   "cell_type": "code",
   "execution_count": null,
   "id": "c0d733df",
   "metadata": {},
   "outputs": [],
   "source": [
    "df['Order Date']=pd.to_datetime(df['Order Date'])"
   ]
  },
  {
   "cell_type": "markdown",
   "id": "a5fe6c0b",
   "metadata": {},
   "source": [
    "#### Now we no loger require the order date(DateOrders)\n",
    "#### So droping it."
   ]
  },
  {
   "cell_type": "code",
   "execution_count": null,
   "id": "36e24f4c",
   "metadata": {},
   "outputs": [],
   "source": [
    "df.drop(columns=['order date (DateOrders)'],inplace=True)"
   ]
  },
  {
   "cell_type": "code",
   "execution_count": null,
   "id": "216d6374",
   "metadata": {},
   "outputs": [],
   "source": []
  },
  {
   "cell_type": "markdown",
   "id": "d5c32acb",
   "metadata": {},
   "source": [
    "### Check if there are any null values."
   ]
  },
  {
   "cell_type": "code",
   "execution_count": null,
   "id": "c789b5fc",
   "metadata": {},
   "outputs": [],
   "source": [
    "df.isna().sum()"
   ]
  },
  {
   "cell_type": "markdown",
   "id": "e5466d4b",
   "metadata": {},
   "source": [
    "#### So there are no null values present."
   ]
  },
  {
   "cell_type": "markdown",
   "id": "72395ae9",
   "metadata": {},
   "source": [
    "## Plotting some graph to understand dataset.\n",
    "## And EDA also"
   ]
  },
  {
   "cell_type": "markdown",
   "id": "a4322a71",
   "metadata": {},
   "source": [
    "## Plot of product Price"
   ]
  },
  {
   "cell_type": "code",
   "execution_count": null,
   "id": "9f67066d",
   "metadata": {},
   "outputs": [],
   "source": [
    "plt.title('Boxplot of Product Price')\n",
    "sns.boxplot(x=df['Product Price'])"
   ]
  },
  {
   "cell_type": "code",
   "execution_count": null,
   "id": "2f2313bf",
   "metadata": {},
   "outputs": [],
   "source": [
    "plt.title('Distribustion of Product Price')\n",
    "sns.distplot(df['Product Price'])"
   ]
  },
  {
   "cell_type": "code",
   "execution_count": null,
   "id": "2921474c",
   "metadata": {},
   "outputs": [],
   "source": [
    "Q1 = df['Product Price'].quantile(0.25)\n",
    "Q3 = df['Product Price'].quantile(0.75)\n",
    "IQR = Q3-Q1\n",
    "LL = Q1-1.5*IQR\n",
    "UL = Q3+1.5*IQR"
   ]
  },
  {
   "cell_type": "code",
   "execution_count": null,
   "id": "5bf70686",
   "metadata": {},
   "outputs": [],
   "source": [
    "df[(df['Product Price']<LL) | (df['Product Price']>UL)]"
   ]
  },
  {
   "cell_type": "code",
   "execution_count": null,
   "id": "d1b62d36",
   "metadata": {},
   "outputs": [],
   "source": [
    "(2048/df.shape[0])*100"
   ]
  },
  {
   "cell_type": "code",
   "execution_count": null,
   "id": "9e464a17",
   "metadata": {},
   "outputs": [],
   "source": [
    "df =df[(df['Product Price']>=LL) & (df['Product Price']<=UL)]"
   ]
  },
  {
   "cell_type": "markdown",
   "id": "6e6a4d6a",
   "metadata": {},
   "source": [
    "## Customer Segment Plots"
   ]
  },
  {
   "cell_type": "code",
   "execution_count": null,
   "id": "648ea1a7",
   "metadata": {},
   "outputs": [],
   "source": [
    "df['Customer Segment'].value_counts()"
   ]
  },
  {
   "cell_type": "code",
   "execution_count": null,
   "id": "2ef8da2c",
   "metadata": {
    "scrolled": true
   },
   "outputs": [],
   "source": [
    "plt.title('Share of Customer Segment')\n",
    "df['Customer Segment'].value_counts().plot(kind = 'pie', autopct = '%.2f%%', cmap = 'Set2',explode = [0.05, 0.05, 0.05])"
   ]
  },
  {
   "cell_type": "markdown",
   "id": "06b1b81f",
   "metadata": {},
   "source": [
    "## Market Share Plot"
   ]
  },
  {
   "cell_type": "code",
   "execution_count": null,
   "id": "6a84d529",
   "metadata": {},
   "outputs": [],
   "source": [
    "df['Market'].value_counts()"
   ]
  },
  {
   "cell_type": "code",
   "execution_count": null,
   "id": "59227198",
   "metadata": {},
   "outputs": [],
   "source": [
    "plt.title('Market shares')\n",
    "df['Market'].value_counts().plot(kind='pie',autopct = '%.2f%%', cmap = 'Set1',explode = [0.05, 0.05, 0.05,0.05,0.05])"
   ]
  },
  {
   "cell_type": "code",
   "execution_count": null,
   "id": "76fe26f1",
   "metadata": {
    "scrolled": true
   },
   "outputs": [],
   "source": [
    "df['Order Year'].value_counts()"
   ]
  },
  {
   "cell_type": "markdown",
   "id": "8d06affc",
   "metadata": {},
   "source": [
    "## Year wise quantity sold plot"
   ]
  },
  {
   "cell_type": "code",
   "execution_count": null,
   "id": "333818b9",
   "metadata": {},
   "outputs": [],
   "source": [
    "sns.countplot(data=df, x='Order Year')"
   ]
  },
  {
   "cell_type": "code",
   "execution_count": null,
   "id": "4f5c74eb",
   "metadata": {},
   "outputs": [],
   "source": [
    "df[df['Order Year']==2018]"
   ]
  },
  {
   "cell_type": "code",
   "execution_count": null,
   "id": "8d775ac5",
   "metadata": {},
   "outputs": [],
   "source": [
    "df.drop(df[df['Order Year']==2018].index, axis=0, inplace=True)"
   ]
  },
  {
   "cell_type": "code",
   "execution_count": null,
   "id": "5774a8c8",
   "metadata": {},
   "outputs": [],
   "source": [
    "df.shape"
   ]
  },
  {
   "cell_type": "markdown",
   "id": "d81de256",
   "metadata": {},
   "source": [
    "## Plot for Regions"
   ]
  },
  {
   "cell_type": "code",
   "execution_count": null,
   "id": "bd072462",
   "metadata": {},
   "outputs": [],
   "source": [
    "df['Order Region'].value_counts()"
   ]
  },
  {
   "cell_type": "code",
   "execution_count": null,
   "id": "3ee13215",
   "metadata": {},
   "outputs": [],
   "source": [
    "order = df['Order Region'].value_counts().index"
   ]
  },
  {
   "cell_type": "code",
   "execution_count": null,
   "id": "eacb57b6",
   "metadata": {},
   "outputs": [],
   "source": [
    "plt.title('Orders from different regions')\n",
    "sns.countplot(data=df, y='Order Region',order=order, palette='rocket')"
   ]
  },
  {
   "cell_type": "markdown",
   "id": "74e443f2",
   "metadata": {},
   "source": [
    "## Plot for Countries"
   ]
  },
  {
   "cell_type": "code",
   "execution_count": null,
   "id": "522f56e4",
   "metadata": {},
   "outputs": [],
   "source": [
    "df['Order Country'].value_counts()[:20]"
   ]
  },
  {
   "cell_type": "code",
   "execution_count": null,
   "id": "aa43be16",
   "metadata": {},
   "outputs": [],
   "source": [
    "plt.title('Top 20 Countries By Orders')\n",
    "df['Order Country'].value_counts()[:20].sort_values(ascending=True).plot(kind='barh',color='darkviolet')\n",
    "plt.xlabel('Total Order Quantity')"
   ]
  },
  {
   "cell_type": "markdown",
   "id": "fdf739e9",
   "metadata": {},
   "source": [
    "### PLot For Product Card Id"
   ]
  },
  {
   "cell_type": "code",
   "execution_count": null,
   "id": "2b51d6e8",
   "metadata": {},
   "outputs": [],
   "source": [
    "df['Product Card Id'].value_counts()"
   ]
  },
  {
   "cell_type": "code",
   "execution_count": null,
   "id": "9f387536",
   "metadata": {},
   "outputs": [],
   "source": [
    "order = list(df['Product Card Id'].value_counts().sort_values()[:20].index)"
   ]
  },
  {
   "cell_type": "code",
   "execution_count": null,
   "id": "e9e1a32c",
   "metadata": {},
   "outputs": [],
   "source": [
    "plt.title('Product car Id vs orders')\n",
    "sns.countplot(data=df, y='Product Card Id',order=order, palette='crest')"
   ]
  },
  {
   "cell_type": "markdown",
   "id": "0ac9b0f6",
   "metadata": {},
   "source": [
    "### Different shipping modes plot"
   ]
  },
  {
   "cell_type": "code",
   "execution_count": null,
   "id": "25905bdd",
   "metadata": {},
   "outputs": [],
   "source": [
    "plt.title('Number of orders for different shipping modes')\n",
    "sns.countplot(data=df, x='Shipping Mode',palette='Set1')"
   ]
  },
  {
   "cell_type": "markdown",
   "id": "d1fa71a7",
   "metadata": {},
   "source": [
    "### Order status plot"
   ]
  },
  {
   "cell_type": "code",
   "execution_count": null,
   "id": "a4792e26",
   "metadata": {},
   "outputs": [],
   "source": [
    "plt.title('Order status')\n",
    "sns.countplot(data=df, y='Order Status')"
   ]
  },
  {
   "cell_type": "code",
   "execution_count": null,
   "id": "03473685",
   "metadata": {},
   "outputs": [],
   "source": []
  },
  {
   "cell_type": "code",
   "execution_count": null,
   "id": "e384ea27",
   "metadata": {},
   "outputs": [],
   "source": []
  },
  {
   "cell_type": "markdown",
   "id": "9862c3a3",
   "metadata": {},
   "source": [
    "### Plot For Number Of Quantities Ordered"
   ]
  },
  {
   "cell_type": "code",
   "execution_count": null,
   "id": "c0fb0954",
   "metadata": {},
   "outputs": [],
   "source": [
    "df['Order Item Quantity'].value_counts()"
   ]
  },
  {
   "cell_type": "code",
   "execution_count": null,
   "id": "04f9556f",
   "metadata": {},
   "outputs": [],
   "source": [
    "order = df['Order Item Quantity'].value_counts().index"
   ]
  },
  {
   "cell_type": "code",
   "execution_count": null,
   "id": "d058d1ae",
   "metadata": {
    "scrolled": true
   },
   "outputs": [],
   "source": [
    "plt.title('Order Quantities')\n",
    "sns.countplot(data=df, x='Order Item Quantity',order=order,palette='mako')\n",
    "plt.ylabel('Quantity')\n",
    "plt.show()"
   ]
  },
  {
   "cell_type": "markdown",
   "id": "a3599d3a",
   "metadata": {},
   "source": [
    "## Encoding"
   ]
  },
  {
   "cell_type": "code",
   "execution_count": null,
   "id": "4ea4609f",
   "metadata": {},
   "outputs": [],
   "source": [
    "df.dtypes"
   ]
  },
  {
   "cell_type": "code",
   "execution_count": null,
   "id": "4713776f",
   "metadata": {},
   "outputs": [],
   "source": [
    "cat_columns = []\n",
    "for column in df.columns:\n",
    "    if df[column].dtypes == 'object':\n",
    "        cat_columns.append(column)\n",
    "cat_columns"
   ]
  },
  {
   "cell_type": "code",
   "execution_count": null,
   "id": "8b5ce326",
   "metadata": {
    "scrolled": false
   },
   "outputs": [],
   "source": [
    "new_df = pd.get_dummies(data=df, columns=cat_columns)"
   ]
  },
  {
   "cell_type": "code",
   "execution_count": null,
   "id": "0e9630d2",
   "metadata": {},
   "outputs": [],
   "source": [
    "for i in new_df.columns:\n",
    "    print(i)"
   ]
  },
  {
   "cell_type": "code",
   "execution_count": null,
   "id": "10da48cb",
   "metadata": {},
   "outputs": [],
   "source": [
    "new_df['Product Price']"
   ]
  },
  {
   "cell_type": "code",
   "execution_count": null,
   "id": "54664196",
   "metadata": {
    "scrolled": false
   },
   "outputs": [],
   "source": [
    "plt.figure(figsize=(50,50))\n",
    "sns.heatmap(new_df.corr(numeric_only=True),cmap='coolwarm')"
   ]
  },
  {
   "cell_type": "code",
   "execution_count": null,
   "id": "b3fa9372",
   "metadata": {},
   "outputs": [],
   "source": [
    "df.columns"
   ]
  },
  {
   "cell_type": "code",
   "execution_count": null,
   "id": "c6d2d521",
   "metadata": {},
   "outputs": [],
   "source": [
    "df = df[['Category Id', 'Order Item Quantity','Product Card Id', 'Product Price','Order Date', 'Order Month', 'Order Year']]"
   ]
  },
  {
   "cell_type": "markdown",
   "id": "c82a823b",
   "metadata": {},
   "source": [
    "# Heatmap"
   ]
  },
  {
   "cell_type": "code",
   "execution_count": null,
   "id": "2273333a",
   "metadata": {},
   "outputs": [],
   "source": [
    "plt.figure(figsize=(12,8))\n",
    "sns.heatmap(df.corr(numeric_only=True),annot=True,cmap='coolwarm')"
   ]
  },
  {
   "cell_type": "code",
   "execution_count": null,
   "id": "d18c13f9",
   "metadata": {},
   "outputs": [],
   "source": [
    "df.columns"
   ]
  },
  {
   "cell_type": "code",
   "execution_count": null,
   "id": "5f66b7f1",
   "metadata": {},
   "outputs": [],
   "source": [
    "df.head()"
   ]
  },
  {
   "cell_type": "code",
   "execution_count": null,
   "id": "75e4d9ec",
   "metadata": {},
   "outputs": [],
   "source": []
  },
  {
   "cell_type": "markdown",
   "id": "6dc0d0e0",
   "metadata": {},
   "source": [
    "## Data Cleaning"
   ]
  },
  {
   "cell_type": "code",
   "execution_count": null,
   "id": "f29f8f2b",
   "metadata": {
    "scrolled": true
   },
   "outputs": [],
   "source": [
    "plt.figure(figsize=(12, 8))\n",
    "daily_orders= df.groupby(['Order Date'])['Order Item Quantity'].sum().reset_index()\n",
    "sns.lineplot(data=daily_orders, x='Order Date', y='Order Item Quantity')\n",
    "plt.title('Total Order Quantity Over Time')\n",
    "plt.xlabel('Day')\n",
    "plt.ylabel('Total Quantity')\n",
    "plt.show()"
   ]
  },
  {
   "cell_type": "code",
   "execution_count": null,
   "id": "9efb436f",
   "metadata": {},
   "outputs": [],
   "source": [
    "daily_orders.to_csv('Daily Orders.csv',index=False)"
   ]
  },
  {
   "cell_type": "code",
   "execution_count": null,
   "id": "f64dfa19",
   "metadata": {},
   "outputs": [],
   "source": [
    "sns.boxplot(data=daily_orders ,x='Order Item Quantity')"
   ]
  },
  {
   "cell_type": "code",
   "execution_count": null,
   "id": "97f306ec",
   "metadata": {},
   "outputs": [],
   "source": [
    "Q1 = daily_orders['Order Item Quantity'].quantile(0.25)\n",
    "Q3 = daily_orders['Order Item Quantity'].quantile(0.75)\n",
    "\n",
    "IQR = Q3 - Q1\n",
    "\n",
    "LL = Q1 - 1.5*IQR\n",
    "UL = Q3 + 1.5*IQR\n",
    "\n",
    "print(LL,UL)"
   ]
  },
  {
   "cell_type": "code",
   "execution_count": null,
   "id": "0747d345",
   "metadata": {},
   "outputs": [],
   "source": [
    "daily_orders[(daily_orders['Order Item Quantity']>=LL) & (daily_orders['Order Item Quantity']<=UL)]"
   ]
  },
  {
   "cell_type": "code",
   "execution_count": null,
   "id": "5741d18a",
   "metadata": {},
   "outputs": [],
   "source": [
    "daily_orders.shape"
   ]
  },
  {
   "cell_type": "code",
   "execution_count": null,
   "id": "9158e4a4",
   "metadata": {},
   "outputs": [],
   "source": [
    "daily_orders = daily_orders[(daily_orders['Order Item Quantity']>=LL) & (daily_orders['Order Item Quantity']<=UL)]"
   ]
  },
  {
   "cell_type": "code",
   "execution_count": null,
   "id": "e848cbb6",
   "metadata": {},
   "outputs": [],
   "source": [
    "daily_orders"
   ]
  },
  {
   "cell_type": "code",
   "execution_count": null,
   "id": "7433eb6f",
   "metadata": {},
   "outputs": [],
   "source": [
    "plt.figure(figsize=(12, 6))\n",
    "sns.lineplot(data=daily_orders, x='Order Date', y='Order Item Quantity')\n",
    "plt.title('Total Order Quantity Over Time')\n",
    "plt.xlabel('Day')\n",
    "plt.ylabel('Total Quantity')\n",
    "plt.show()"
   ]
  },
  {
   "cell_type": "code",
   "execution_count": null,
   "id": "ff183e9b",
   "metadata": {},
   "outputs": [],
   "source": [
    "sns.boxplot(data=daily_orders ,x='Order Item Quantity')"
   ]
  },
  {
   "cell_type": "code",
   "execution_count": null,
   "id": "01c8cbee",
   "metadata": {},
   "outputs": [],
   "source": [
    "cleaned_daily_orders = daily_orders.copy()\n",
    "cleaned_daily_orders['Order Date'] = pd.to_datetime(cleaned_daily_orders['Order Date'])\n",
    "cleaned_daily_orders['Year Month']=cleaned_daily_orders['Order Date'].dt.to_period('M')\n",
    "cleaned_daily_orders['Year Week']=cleaned_daily_orders['Order Date'].dt.to_period('W')\n",
    "cleaned_daily_orders"
   ]
  },
  {
   "cell_type": "code",
   "execution_count": null,
   "id": "d7bd508d",
   "metadata": {},
   "outputs": [],
   "source": [
    "cleaned_daily_orders.info()"
   ]
  },
  {
   "cell_type": "code",
   "execution_count": null,
   "id": "847b522c",
   "metadata": {},
   "outputs": [],
   "source": [
    "monthly_orders = cleaned_daily_orders.groupby('Year Month')['Order Item Quantity'].sum()"
   ]
  },
  {
   "cell_type": "code",
   "execution_count": null,
   "id": "70a9645b",
   "metadata": {},
   "outputs": [],
   "source": [
    "plt.figure(figsize=(12, 6))\n",
    "monthly_orders.plot(kind='line', marker='o')\n",
    "plt.title('Total Orders by Month')\n",
    "plt.ylabel('Total Order Quantity')\n",
    "plt.xlabel('Month')\n",
    "plt.grid(True)\n",
    "plt.show()"
   ]
  },
  {
   "cell_type": "code",
   "execution_count": null,
   "id": "e62a2e46",
   "metadata": {},
   "outputs": [],
   "source": [
    "weekly_orders = cleaned_daily_orders.groupby('Year Week')['Order Item Quantity'].sum()"
   ]
  },
  {
   "cell_type": "code",
   "execution_count": null,
   "id": "c9bc6e51",
   "metadata": {},
   "outputs": [],
   "source": [
    "sns.boxplot(x=weekly_orders)"
   ]
  },
  {
   "cell_type": "code",
   "execution_count": null,
   "id": "5957d649",
   "metadata": {},
   "outputs": [],
   "source": [
    "Q1 = weekly_orders.quantile(0.25)\n",
    "Q3 = weekly_orders.quantile(0.75)\n",
    "\n",
    "IQR = Q3-Q1\n",
    "\n",
    "LL = Q1 - IQR*1.5\n",
    "UL = Q3 + IQR*1.5"
   ]
  },
  {
   "cell_type": "code",
   "execution_count": null,
   "id": "666a2992",
   "metadata": {},
   "outputs": [],
   "source": [
    " weekly_orders[(weekly_orders>=LL) & (weekly_orders<=UL)]"
   ]
  },
  {
   "cell_type": "code",
   "execution_count": null,
   "id": "0eb03043",
   "metadata": {},
   "outputs": [],
   "source": [
    "weekly_orders.shape"
   ]
  },
  {
   "cell_type": "code",
   "execution_count": null,
   "id": "6dfc8410",
   "metadata": {},
   "outputs": [],
   "source": [
    "weekly_orders = weekly_orders[(weekly_orders>=LL) & (weekly_orders<=UL)]"
   ]
  },
  {
   "cell_type": "code",
   "execution_count": null,
   "id": "f8c3bc0d",
   "metadata": {},
   "outputs": [],
   "source": [
    "plt.figure(figsize=(12, 6))\n",
    "weekly_orders.plot(kind='line', marker='o')\n",
    "plt.title('Total Orders by Week')\n",
    "plt.ylabel('Total Order Quantity')\n",
    "plt.xlabel('Week')\n",
    "plt.grid(True)\n",
    "plt.show()"
   ]
  },
  {
   "cell_type": "code",
   "execution_count": null,
   "id": "e839d410",
   "metadata": {},
   "outputs": [],
   "source": [
    "df.head()"
   ]
  },
  {
   "cell_type": "code",
   "execution_count": null,
   "id": "b345d61d",
   "metadata": {},
   "outputs": [],
   "source": [
    "cleaned_daily_orders"
   ]
  },
  {
   "cell_type": "code",
   "execution_count": null,
   "id": "d2ca5756",
   "metadata": {},
   "outputs": [],
   "source": [
    "cleaned_daily_orders.dtypes"
   ]
  },
  {
   "cell_type": "code",
   "execution_count": null,
   "id": "ac287e14",
   "metadata": {},
   "outputs": [],
   "source": [
    "cleaned_daily_orders.to_csv('Cleaned Data.csv',index=False)"
   ]
  },
  {
   "cell_type": "code",
   "execution_count": null,
   "id": "137f5b47",
   "metadata": {},
   "outputs": [],
   "source": []
  },
  {
   "cell_type": "code",
   "execution_count": null,
   "id": "a017987b",
   "metadata": {},
   "outputs": [],
   "source": []
  },
  {
   "cell_type": "markdown",
   "id": "e4d3e683",
   "metadata": {},
   "source": [
    "# Model Building"
   ]
  },
  {
   "cell_type": "markdown",
   "id": "a02e4a42",
   "metadata": {},
   "source": [
    "# **Prophet**"
   ]
  },
  {
   "cell_type": "code",
   "execution_count": null,
   "id": "178438ed",
   "metadata": {},
   "outputs": [],
   "source": [
    "from prophet import Prophet\n",
    "from prophet.diagnostics import cross_validation\n",
    "from sklearn.metrics import mean_absolute_error\n",
    "from sklearn.metrics import mean_squared_error\n",
    "from prophet.plot import plot_cross_validation_metric"
   ]
  },
  {
   "cell_type": "code",
   "execution_count": null,
   "id": "084e1f78",
   "metadata": {},
   "outputs": [],
   "source": [
    "weekly_orders.head()"
   ]
  },
  {
   "cell_type": "code",
   "execution_count": null,
   "id": "06e4083c",
   "metadata": {},
   "outputs": [],
   "source": [
    "weekly_orders_df = weekly_orders.reset_index()"
   ]
  },
  {
   "cell_type": "code",
   "execution_count": null,
   "id": "23400d93",
   "metadata": {},
   "outputs": [],
   "source": [
    "weekly_orders_df.dtypes"
   ]
  },
  {
   "cell_type": "code",
   "execution_count": null,
   "id": "cb5f8268",
   "metadata": {},
   "outputs": [],
   "source": [
    "weekly_orders_df.columns = ['ds','y']"
   ]
  },
  {
   "cell_type": "code",
   "execution_count": null,
   "id": "7cc4aee4",
   "metadata": {},
   "outputs": [],
   "source": [
    "weekly_orders_df['ds'] = weekly_orders_df['ds'].dt.to_timestamp()\n",
    "weekly_orders_df"
   ]
  },
  {
   "cell_type": "code",
   "execution_count": null,
   "id": "db9cac5a",
   "metadata": {},
   "outputs": [],
   "source": [
    "split_point = int(len(weekly_orders) * 0.80)\n",
    "split_point"
   ]
  },
  {
   "cell_type": "code",
   "execution_count": null,
   "id": "f9fbd18c",
   "metadata": {},
   "outputs": [],
   "source": [
    "train = weekly_orders_df.iloc[:split_point]\n",
    "test = weekly_orders_df.iloc[split_point:]"
   ]
  },
  {
   "cell_type": "code",
   "execution_count": null,
   "id": "a790e82c",
   "metadata": {},
   "outputs": [],
   "source": [
    "prophet_weekly_model = Prophet()\n",
    "prophet_weekly_model.fit(train)\n"
   ]
  },
  {
   "cell_type": "code",
   "execution_count": null,
   "id": "6523ab3e",
   "metadata": {},
   "outputs": [],
   "source": [
    "weekly_future = prophet_weekly_model.make_future_dataframe(periods=len(test), freq='W-SUN')"
   ]
  },
  {
   "cell_type": "code",
   "execution_count": null,
   "id": "6641f027",
   "metadata": {},
   "outputs": [],
   "source": [
    "weekly_forecast = prophet_weekly_model.predict(weekly_future)"
   ]
  },
  {
   "cell_type": "code",
   "execution_count": null,
   "id": "079380a3",
   "metadata": {},
   "outputs": [],
   "source": [
    "# Evaluate on Training data\n",
    "y_pred_train = weekly_forecast['yhat'][:split_point]\n",
    "mae_train = mean_absolute_error(train['y'], y_pred_train)\n",
    "mse_train = mean_squared_error(train['y'], y_pred_train)\n",
    "rmse_train = np.sqrt(mse_train)\n",
    "\n",
    "print(f\"Training MAE: {mae_train}\")\n",
    "print(f\"Training MSE: {mse_train}\")\n",
    "print(f\"Training RMSE: {rmse_train}\")\n",
    "\n",
    "# Evaluate on Testing data\n",
    "y_pred_test = weekly_forecast['yhat'][split_point:]\n",
    "mae_test = mean_absolute_error(test['y'], y_pred_test)\n",
    "mse_test = mean_squared_error(test['y'], y_pred_test)\n",
    "rmse_test = np.sqrt(mse_test)\n",
    "\n",
    "print(f\"\\nTesting MAE: {mae_test}\")\n",
    "print(f\"Testing MSE: {mse_test}\")\n",
    "print(f\"Testing RMSE: {rmse_test}\")"
   ]
  },
  {
   "cell_type": "code",
   "execution_count": null,
   "id": "c6e1ccca",
   "metadata": {},
   "outputs": [],
   "source": [
    "plt.figure(figsize=(15, 6))\n",
    "plt.plot(train['ds'], train['y'], label='Training Data', color='blue')\n",
    "plt.plot(test['ds'], test['y'], label='Actual Test Data', color='orange')\n",
    "plt.plot(train['ds'], y_pred_train, label='Predicted Training Data', color='red', linestyle='--')\n",
    "plt.plot(test['ds'], y_pred_test, label='Predicted Test Data', color='green', linestyle='--')\n",
    "plt.title('Actual vs Predicted Weekly Orders')\n",
    "plt.xlabel('Date')\n",
    "plt.ylabel('Order Quantity')\n",
    "plt.legend()\n",
    "plt.grid(True)\n",
    "plt.show()"
   ]
  },
  {
   "cell_type": "code",
   "execution_count": null,
   "id": "67d2f7bd",
   "metadata": {},
   "outputs": [],
   "source": [
    "weekly_orders_df.shape"
   ]
  },
  {
   "cell_type": "code",
   "execution_count": null,
   "id": "e0938d30",
   "metadata": {},
   "outputs": [],
   "source": [
    "df_cv_m1 = cross_validation(prophet_weekly_model, initial = '100 W', period= '1 W', horizon = '10 W')"
   ]
  },
  {
   "cell_type": "code",
   "execution_count": null,
   "id": "56d05cd6",
   "metadata": {
    "scrolled": false
   },
   "outputs": [],
   "source": [
    "fig_rmse = plot_cross_validation_metric(df_cv_m1, metric='rmse')"
   ]
  },
  {
   "cell_type": "code",
   "execution_count": null,
   "id": "5a53ed38",
   "metadata": {},
   "outputs": [],
   "source": [
    "from prophet.diagnostics import performance_metrics\n",
    "pm1=performance_metrics(df_cv_m1)\n",
    "\n",
    "print(\"rmse:\", pm1['rmse'])\n",
    "#print(\"avg rmse:\", pm1['rmse'].mean())"
   ]
  },
  {
   "cell_type": "code",
   "execution_count": null,
   "id": "8d8804f1",
   "metadata": {},
   "outputs": [],
   "source": [
    "pm1"
   ]
  },
  {
   "cell_type": "code",
   "execution_count": null,
   "id": "29170328",
   "metadata": {
    "scrolled": true
   },
   "outputs": [],
   "source": [
    "df_cv_m1\n"
   ]
  },
  {
   "cell_type": "code",
   "execution_count": null,
   "id": "7945d912",
   "metadata": {},
   "outputs": [],
   "source": []
  },
  {
   "cell_type": "code",
   "execution_count": null,
   "id": "c38a4513",
   "metadata": {},
   "outputs": [],
   "source": []
  },
  {
   "cell_type": "code",
   "execution_count": null,
   "id": "0df97517",
   "metadata": {},
   "outputs": [],
   "source": []
  },
  {
   "cell_type": "code",
   "execution_count": null,
   "id": "2417dd64",
   "metadata": {},
   "outputs": [],
   "source": []
  },
  {
   "cell_type": "markdown",
   "id": "bb825ea7",
   "metadata": {},
   "source": [
    "# **ARIMA AND SARIMA**"
   ]
  },
  {
   "cell_type": "code",
   "execution_count": null,
   "id": "12413a42",
   "metadata": {},
   "outputs": [],
   "source": [
    "from statsmodels.tsa.seasonal import seasonal_decompose\n",
    "result = seasonal_decompose(weekly_orders_df['Order Item Quantity'],\n",
    "                            model='multiplicative', period = 30)\n",
    "fig = result.plot()\n",
    "fig.set_size_inches(15,10)"
   ]
  },
  {
   "cell_type": "code",
   "execution_count": null,
   "id": "84d85e3d",
   "metadata": {},
   "outputs": [],
   "source": [
    "plt.figure(figsize=(20,10))\n",
    "fig = pd.plotting.autocorrelation_plot(weekly_orders_df['Order Item Quantity'], )"
   ]
  },
  {
   "cell_type": "code",
   "execution_count": null,
   "id": "ac691ea1",
   "metadata": {},
   "outputs": [],
   "source": [
    "from statsmodels.graphics.tsaplots import plot_pacf"
   ]
  },
  {
   "cell_type": "code",
   "execution_count": null,
   "id": "a853b889",
   "metadata": {},
   "outputs": [],
   "source": []
  },
  {
   "cell_type": "code",
   "execution_count": null,
   "id": "4079517e",
   "metadata": {},
   "outputs": [],
   "source": [
    "plot_pacf(weekly_orders_df['Order Item Quantity'],lags=50)"
   ]
  },
  {
   "cell_type": "code",
   "execution_count": null,
   "id": "0438840d",
   "metadata": {},
   "outputs": [],
   "source": [
    "p, d ,q = 4, 0, 1"
   ]
  },
  {
   "cell_type": "markdown",
   "id": "c066535b",
   "metadata": {},
   "source": [
    "# **ARIMA**"
   ]
  },
  {
   "cell_type": "code",
   "execution_count": null,
   "id": "005dfde4",
   "metadata": {
    "scrolled": true
   },
   "outputs": [],
   "source": [
    "from statsmodels.tsa.arima.model import ARIMA\n",
    "arima_model = ARIMA(weekly_orders, order=(p,d,q))\n",
    "arima_model = arima_model.fit()\n",
    "print(arima_model.summary())"
   ]
  },
  {
   "cell_type": "code",
   "execution_count": null,
   "id": "2c96e832",
   "metadata": {},
   "outputs": [],
   "source": [
    "weekly_predictions = arima_model.predict(start=1)\n",
    "weekly_predictions"
   ]
  },
  {
   "cell_type": "code",
   "execution_count": null,
   "id": "f609c6f7",
   "metadata": {},
   "outputs": [],
   "source": [
    "# weekly_predictions_test = arima_model.predict(start=split_point)\n",
    "# weekly_predictions_test"
   ]
  },
  {
   "cell_type": "code",
   "execution_count": null,
   "id": "712314e0",
   "metadata": {},
   "outputs": [],
   "source": []
  },
  {
   "cell_type": "code",
   "execution_count": null,
   "id": "b3fb64bd",
   "metadata": {},
   "outputs": [],
   "source": []
  },
  {
   "cell_type": "code",
   "execution_count": null,
   "id": "bd14e1ee",
   "metadata": {},
   "outputs": [],
   "source": [
    "# Evaluate on Testing data\n",
    "mae_test = mean_absolute_error(weekly_orders[split_point+1:],weekly_predictions[split_point:])\n",
    "mse_test = mean_squared_error(weekly_orders[split_point+1:],weekly_predictions[split_point:])\n",
    "rmse_test = np.sqrt(mse_test)\n",
    "\n",
    "print(f\"\\nTesting MAE: {mae_test}\")\n",
    "print(f\"Testing MSE: {mse_test}\")\n",
    "print(f\"Testing RMSE: {rmse_test}\")"
   ]
  },
  {
   "cell_type": "code",
   "execution_count": null,
   "id": "c803f8c5",
   "metadata": {
    "scrolled": false
   },
   "outputs": [],
   "source": [
    "plt.figure(figsize=(15,8))\n",
    "weekly_orders[:split_point].plot(kind='line',marker='o',color='blue')\n",
    "weekly_orders[split_point:].plot(kind='line',marker='o',color='green')\n",
    "weekly_predictions[:split_point].plot(kind='line',marker='o',color='red')\n",
    "weekly_predictions[split_point:].plot(kind='line',marker='o',color='orange')"
   ]
  },
  {
   "cell_type": "code",
   "execution_count": null,
   "id": "af2ff2e6",
   "metadata": {},
   "outputs": [],
   "source": [
    "def smape(actual, predicted):\n",
    "    return 100* np.mean(2*np.abs(actual - predicted) / (np.abs(actual) + np.abs(predicted)))"
   ]
  },
  {
   "cell_type": "code",
   "execution_count": null,
   "id": "1719ca9c",
   "metadata": {},
   "outputs": [],
   "source": [
    "smape_arima = smape(weekly_orders[split_point:], weekly_predictions[split_point:])\n",
    "smape_arima"
   ]
  },
  {
   "cell_type": "code",
   "execution_count": null,
   "id": "ab2e2e77",
   "metadata": {},
   "outputs": [],
   "source": []
  },
  {
   "cell_type": "code",
   "execution_count": null,
   "id": "f0991242",
   "metadata": {},
   "outputs": [],
   "source": []
  },
  {
   "cell_type": "markdown",
   "id": "680e387e",
   "metadata": {},
   "source": [
    "# **SARIMA**"
   ]
  },
  {
   "cell_type": "code",
   "execution_count": null,
   "id": "61a961bb",
   "metadata": {},
   "outputs": [],
   "source": [
    "import statsmodels.api as sm\n",
    "import warnings"
   ]
  },
  {
   "cell_type": "code",
   "execution_count": null,
   "id": "1431b130",
   "metadata": {},
   "outputs": [],
   "source": [
    "p, d ,q = 4, 1, 1"
   ]
  },
  {
   "cell_type": "code",
   "execution_count": null,
   "id": "72dd119f",
   "metadata": {},
   "outputs": [],
   "source": [
    "sarima_model = sm.tsa.statespace.SARIMAX(weekly_orders,\n",
    "                                order=(p, d, q),\n",
    "                                seasonal_order=(p, d, q, 52))\n",
    "sarima_weekly_model=sarima_model.fit()\n",
    "print(sarima_weekly_model.summary())"
   ]
  },
  {
   "cell_type": "code",
   "execution_count": null,
   "id": "a7ae735f",
   "metadata": {},
   "outputs": [],
   "source": [
    "sarima_pred = sarima_weekly_model.predict(start=1)"
   ]
  },
  {
   "cell_type": "code",
   "execution_count": null,
   "id": "985a7e5a",
   "metadata": {},
   "outputs": [],
   "source": [
    "# sarima_pred_test = sarima_weekly_model.predict(start=split_point+1,end=len(weekly_orders))"
   ]
  },
  {
   "cell_type": "code",
   "execution_count": null,
   "id": "92781cbf",
   "metadata": {},
   "outputs": [],
   "source": [
    "sarima_pred"
   ]
  },
  {
   "cell_type": "code",
   "execution_count": null,
   "id": "fcc849e7",
   "metadata": {},
   "outputs": [],
   "source": [
    "# Evaluate on Testing data\n",
    "mae_test = mean_absolute_error(weekly_orders[split_point+1:],sarima_pred[split_point:])\n",
    "mse_test = mean_squared_error(weekly_orders[split_point+1:],sarima_pred[split_point:])\n",
    "rmse_test = np.sqrt(mse_test)\n",
    "\n",
    "print(f\"\\nTesting MAE: {mae_test}\")\n",
    "print(f\"Testing MSE: {mse_test}\")\n",
    "print(f\"Testing RMSE: {rmse_test}\")"
   ]
  },
  {
   "cell_type": "code",
   "execution_count": null,
   "id": "2b63ffdf",
   "metadata": {
    "scrolled": false
   },
   "outputs": [],
   "source": [
    "plt.figure(figsize=(15,8))\n",
    "weekly_orders[:split_point].plot(kind='line',color='blue')\n",
    "weekly_orders[split_point:].plot(kind='line',color='green')\n",
    "sarima_pred[:split_point].plot(kind='line',color='red',linestyle='--')\n",
    "sarima_pred[split_point+1:].plot(kind='line',color='orange',linestyle='--')"
   ]
  },
  {
   "cell_type": "code",
   "execution_count": null,
   "id": "e78f0315",
   "metadata": {},
   "outputs": [],
   "source": [
    "smape_arima = smape(weekly_orders[split_point:], sarima_pred[split_point:])\n",
    "smape_arima"
   ]
  },
  {
   "cell_type": "code",
   "execution_count": null,
   "id": "e2af4876",
   "metadata": {},
   "outputs": [],
   "source": []
  },
  {
   "cell_type": "code",
   "execution_count": null,
   "id": "073df989",
   "metadata": {},
   "outputs": [],
   "source": []
  },
  {
   "cell_type": "code",
   "execution_count": null,
   "id": "5d9e00be",
   "metadata": {},
   "outputs": [],
   "source": []
  },
  {
   "cell_type": "code",
   "execution_count": null,
   "id": "80bfd41f",
   "metadata": {},
   "outputs": [],
   "source": []
  },
  {
   "cell_type": "markdown",
   "id": "2c70594c",
   "metadata": {},
   "source": [
    "# **Linear** #"
   ]
  },
  {
   "cell_type": "code",
   "execution_count": null,
   "id": "2362bf76",
   "metadata": {},
   "outputs": [],
   "source": [
    "from sklearn.model_selection import train_test_split\n",
    "from sklearn.linear_model import LinearRegression"
   ]
  },
  {
   "cell_type": "code",
   "execution_count": null,
   "id": "431472de",
   "metadata": {},
   "outputs": [],
   "source": [
    "weekly_orders_df.columns = ['Week','Order Item Quantity']"
   ]
  },
  {
   "cell_type": "code",
   "execution_count": null,
   "id": "e78f7947",
   "metadata": {},
   "outputs": [],
   "source": [
    "train = weekly_orders_df.iloc[:split_point]\n",
    "test = weekly_orders_df.iloc[split_point:]"
   ]
  },
  {
   "cell_type": "code",
   "execution_count": null,
   "id": "f20d74a2",
   "metadata": {},
   "outputs": [],
   "source": [
    "weekly_orders_df.head()"
   ]
  },
  {
   "cell_type": "code",
   "execution_count": null,
   "id": "efbb7af4",
   "metadata": {},
   "outputs": [],
   "source": [
    "weekly_orders_df.dtypes"
   ]
  },
  {
   "cell_type": "code",
   "execution_count": null,
   "id": "20f6321f",
   "metadata": {},
   "outputs": [],
   "source": [
    "X_train = train.drop(['Order Item Quantity'],axis=1).values.astype('float64')\n",
    "y_train = train['Order Item Quantity'].values.astype('float64')"
   ]
  },
  {
   "cell_type": "code",
   "execution_count": null,
   "id": "de9947a2",
   "metadata": {},
   "outputs": [],
   "source": [
    "X_test = test.drop(['Order Item Quantity'],axis=1).values.astype('float64')\n",
    "y_test = test['Order Item Quantity'].values.astype('float64')"
   ]
  },
  {
   "cell_type": "code",
   "execution_count": null,
   "id": "ad965f6d",
   "metadata": {},
   "outputs": [],
   "source": []
  },
  {
   "cell_type": "code",
   "execution_count": null,
   "id": "e65cd985",
   "metadata": {},
   "outputs": [],
   "source": []
  },
  {
   "cell_type": "code",
   "execution_count": null,
   "id": "afc7b5db",
   "metadata": {},
   "outputs": [],
   "source": [
    "linear_reg_model = LinearRegression()"
   ]
  },
  {
   "cell_type": "code",
   "execution_count": null,
   "id": "d4c9e3ea",
   "metadata": {},
   "outputs": [],
   "source": [
    "linear_reg_model.fit(X_train, y_train)"
   ]
  },
  {
   "cell_type": "code",
   "execution_count": null,
   "id": "e75b5045",
   "metadata": {},
   "outputs": [],
   "source": [
    "linear_prediction_train = linear_reg_model.predict(X_train)"
   ]
  },
  {
   "cell_type": "code",
   "execution_count": null,
   "id": "06720090",
   "metadata": {},
   "outputs": [],
   "source": [
    "linear_prediction_test = linear_reg_model.predict(X_test)"
   ]
  },
  {
   "cell_type": "code",
   "execution_count": null,
   "id": "45b45948",
   "metadata": {},
   "outputs": [],
   "source": [
    "# linear_prediction"
   ]
  },
  {
   "cell_type": "code",
   "execution_count": null,
   "id": "93174559",
   "metadata": {},
   "outputs": [],
   "source": [
    "\n",
    "# Evaluate on Testing data\n",
    "mae_test = mean_absolute_error(y_test,linear_prediction_test)\n",
    "mse_test = mean_squared_error(y_test,linear_prediction_test)\n",
    "rmse_test = np.sqrt(mse_test)\n",
    "\n",
    "print(f\"\\nTesting MAE: {mae_test}\")\n",
    "print(f\"Testing MSE: {mse_test}\")\n",
    "print(f\"Testing RMSE: {rmse_test}\")"
   ]
  },
  {
   "cell_type": "code",
   "execution_count": null,
   "id": "262d07ae",
   "metadata": {},
   "outputs": [],
   "source": [
    "plt.figure(figsize=(15, 6))\n",
    "plt.plot(train['Week'], train['Order Item Quantity'], label='Training Data', color='blue')\n",
    "plt.plot(test['Week'], test['Order Item Quantity'], label='Actual Test Data', color='orange')\n",
    "plt.plot(train['Week'], linear_prediction_train, label='Predicted Training Data', color='red', linestyle='--')\n",
    "plt.plot(test['Week'], linear_prediction_test, label='Predicted Test Data', color='green', linestyle='--')\n",
    "plt.title('Actual vs Predicted Weekly Orders')\n",
    "plt.xlabel('Date')\n",
    "plt.ylabel('Order Quantity')\n",
    "plt.legend()\n",
    "plt.grid(True)\n",
    "plt.show()"
   ]
  },
  {
   "cell_type": "code",
   "execution_count": null,
   "id": "01fa11c3",
   "metadata": {},
   "outputs": [],
   "source": []
  },
  {
   "cell_type": "code",
   "execution_count": null,
   "id": "be9077b3",
   "metadata": {},
   "outputs": [],
   "source": []
  },
  {
   "cell_type": "code",
   "execution_count": null,
   "id": "d5891855",
   "metadata": {},
   "outputs": [],
   "source": []
  },
  {
   "cell_type": "code",
   "execution_count": null,
   "id": "392f7880",
   "metadata": {},
   "outputs": [],
   "source": []
  }
 ],
 "metadata": {
  "kernelspec": {
   "display_name": "Python 3 (ipykernel)",
   "language": "python",
   "name": "python3"
  },
  "language_info": {
   "codemirror_mode": {
    "name": "ipython",
    "version": 3
   },
   "file_extension": ".py",
   "mimetype": "text/x-python",
   "name": "python",
   "nbconvert_exporter": "python",
   "pygments_lexer": "ipython3",
   "version": "3.11.5"
  }
 },
 "nbformat": 4,
 "nbformat_minor": 5
}
